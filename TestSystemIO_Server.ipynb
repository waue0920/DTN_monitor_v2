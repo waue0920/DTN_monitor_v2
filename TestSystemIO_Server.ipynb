{
 "cells": [
  {
   "cell_type": "markdown",
   "metadata": {},
   "source": [
    "# Step 0. Definition"
   ]
  },
  {
   "cell_type": "code",
   "execution_count": null,
   "metadata": {
    "scrolled": false
   },
   "outputs": [],
   "source": [
    "#import dtnmonitor_v2 as dtn\n",
    "import dtn_module.dtnmonitor_v3  as DtnModule\n",
    "import os,sys\n",
    "import getpass\n",
    "import subprocess\n",
    "\n",
    "dtn = DtnModule.DTNMonitor()\n",
    "\n",
    "user=getpass.getuser()\n",
    "\n",
    "DtnModule.show_interface()\n",
    "\n",
    "DtnModule.show_nvme()\n",
    "\n",
    "## this is necessary to show exec info in notebook\n",
    "def exec_print(command):\n",
    "    process = subprocess.Popen([command], stdout=subprocess.PIPE,stderr=subprocess.STDOUT, shell=True)\n",
    "    for line in iter(process.stdout.readline, b''):\n",
    "        # system print\n",
    "        sys.stdout.write(line)   "
   ]
  },
  {
   "cell_type": "markdown",
   "metadata": {},
   "source": [
    "# Step 1. Parameter Setting"
   ]
  },
  {
   "cell_type": "code",
   "execution_count": null,
   "metadata": {},
   "outputs": [],
   "source": [
    "########## Necessary\n",
    "###  SELECT THE MONITOR NETWORK INTERFACE\n",
    "## used in Step 1,2,3 , if you don't know the interface name, you can use 'all'\n",
    "## make sure the interface is correct, error_naming or without network flow will get empty grath\n",
    "#dtn.interface = 'eth0.1301'\n",
    "dtn.interface = 'all'\n",
    "#dtn.interface = 'all'\n",
    "\n",
    "\n",
    "### P3. NUTTCP THREADS\n",
    "## used in Step 2 :input threads number\n",
    "#count = 8\n",
    "\n",
    "## display the time period\n",
    "# [0,100]: 100 means display current 100 secs, 0=all\n",
    "dtn.max_graph_point=100\n",
    "\n",
    "\n",
    "file_write_nuttcp=[\n",
    "\"/data/disk0/sc17/fftest\",\n",
    "\"/data/disk1/sc17/fftest\",\n",
    "\"/data/disk2/sc17/fftest\",\n",
    "\"/data/disk3/sc17/fftest\",\n",
    "\"/data/disk4/sc17/fftest\",\n",
    "\"/data/disk5/sc17/fftest\",\n",
    "\"/data/disk6/sc17/fftest\",\n",
    "\"/data/disk7/sc17/fftest\",\n",
    "    # \"/foo/bar/filennn\"\n",
    "     ]\n"
   ]
  },
  {
   "cell_type": "code",
   "execution_count": null,
   "metadata": {
    "scrolled": false
   },
   "outputs": [],
   "source": [
    "# setup fio parameters\n",
    "# first, filename is assigned with existed and >1GB file path \n",
    "randrepeat=\" --randrepeat=0\" #--randrepeat=0 \n",
    "bs=\" --bs=1M\" #--bs=1M \n",
    "ioengine=\" --ioengine=sync \"#--ioengine=sync \n",
    "tuntime=\" --runtime=30\" #--runtime=30 \n",
    "iodepth=\" --iodepth=32\"#--iodepth=32 \n",
    "name=\" --name=drive0\"#--name=drive0 \n",
    "size=\" --size=100G \"#--size=100G \n",
    "\n",
    "\n",
    "\n"
   ]
  },
  {
   "cell_type": "markdown",
   "metadata": {},
   "source": [
    "# Step 2. Start servers for network transfer by memory"
   ]
  },
  {
   "cell_type": "code",
   "execution_count": null,
   "metadata": {
    "scrolled": true
   },
   "outputs": [],
   "source": [
    "## in memory\n",
    "\n",
    "count= len(file_write_nuttcp)\n",
    "\n",
    "for i in range(file_write_nuttcp):\n",
    "    command = \"nuttcp -S -1 -P 5200\"+str(i)+\" -p 5210\"+str(i)+ \" &\"\n",
    "    #print(command)\n",
    "    os.system(command)\n",
    "\n"
   ]
  },
  {
   "cell_type": "markdown",
   "metadata": {},
   "source": [
    "# Step 3. Start servers for network transfer by disk"
   ]
  },
  {
   "cell_type": "code",
   "execution_count": null,
   "metadata": {
    "scrolled": true
   },
   "outputs": [],
   "source": [
    "## in disk\n",
    "\n",
    "count= len(file_write_nuttcp)\n",
    "\n",
    "\n",
    "for i in range(count):\n",
    "    command = \"nuttcp -S -1 -sdz -P 5300\"+str(i)+\" -p 5310\"+str(i)+ \" > \"+ file_write_nuttcp[i] +\" & \"\n",
    "    #print(command)\n",
    "    os.system(command)\n",
    "    #dtn.exec_sysout(command)\n",
    "\n"
   ]
  },
  {
   "cell_type": "code",
   "execution_count": null,
   "metadata": {
    "scrolled": true
   },
   "outputs": [],
   "source": [
    "exec_print(\"sleep 3; ps -u \"+ user +\" ux |grep nuttcp\")"
   ]
  },
  {
   "cell_type": "markdown",
   "metadata": {},
   "source": [
    "# Step 4. Start Monitor"
   ]
  },
  {
   "cell_type": "code",
   "execution_count": null,
   "metadata": {
    "scrolled": false
   },
   "outputs": [],
   "source": [
    "dtn.run_monitor(timeout=60)"
   ]
  },
  {
   "cell_type": "markdown",
   "metadata": {},
   "source": [
    "## Step A . stop the test nuttcp"
   ]
  },
  {
   "cell_type": "code",
   "execution_count": null,
   "metadata": {},
   "outputs": [],
   "source": [
    "dtn.exec_sysout(\"killall -u \"+user+\" nuttcp\")"
   ]
  },
  {
   "cell_type": "code",
   "execution_count": null,
   "metadata": {},
   "outputs": [],
   "source": [
    "exec_print(\"sleep 3; ps -u \"+ user +\" ux |grep nuttcp\")"
   ]
  },
  {
   "cell_type": "code",
   "execution_count": null,
   "metadata": {},
   "outputs": [],
   "source": []
  }
 ],
 "metadata": {
  "kernelspec": {
   "display_name": "Python 3",
   "language": "python",
   "name": "python3"
  },
  "language_info": {
   "codemirror_mode": {
    "name": "ipython",
    "version": 3
   },
   "file_extension": ".py",
   "mimetype": "text/x-python",
   "name": "python",
   "nbconvert_exporter": "python",
   "pygments_lexer": "ipython3",
   "version": "3.6.1"
  }
 },
 "nbformat": 4,
 "nbformat_minor": 2
}

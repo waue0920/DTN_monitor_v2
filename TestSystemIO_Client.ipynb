{
 "cells": [
  {
   "cell_type": "markdown",
   "metadata": {},
   "source": [
    "# Step 0. Definition"
   ]
  },
  {
   "cell_type": "code",
   "execution_count": null,
   "metadata": {},
   "outputs": [],
   "source": [
    "#import dtnmonitor_v2 as dtn\n",
    "import dtn_module.dtnmonitor_v3  as DtnModule\n",
    "import os,sys\n",
    "import getpass\n",
    "import subprocess\n",
    "\n",
    "dtn = DtnModule.DTNMonitor()\n",
    "\n",
    "user=getpass.getuser()\n",
    "\n",
    "DtnModule.show_interface()\n",
    "\n",
    "DtnModule.show_nvme()\n",
    "\n",
    "## this is necessary to show exec info in notebook\n",
    "def exec_print(command):\n",
    "    process = subprocess.Popen([command], stdout=subprocess.PIPE,stderr=subprocess.STDOUT, shell=True)\n",
    "    for line in iter(process.stdout.readline, b''):\n",
    "        # system print\n",
    "        sys.stdout.write(line)   \n"
   ]
  },
  {
   "cell_type": "markdown",
   "metadata": {},
   "source": [
    "# Step 1. Parameter Setting"
   ]
  },
  {
   "cell_type": "code",
   "execution_count": null,
   "metadata": {},
   "outputs": [],
   "source": [
    "########## Necessary\n",
    "###  SELECT THE MONITOR NETWORK INTERFACE\n",
    "## used in Step 1,2,3 , if you don't know the interface name, you can use 'all'\n",
    "## make sure the interface is correct, error_naming or without network flow will get empty grath\n",
    "#dtn.interface = 'eth0.1301'\n",
    "dtn.interface = 'all'\n",
    "#dtn.interface = 'all'\n",
    "\n",
    "\n",
    "### P2. SELECT THE INPUT FILE , \n",
    "## used in Step 1 : file IO read file\n",
    "file_read_fio = \"/data/disk0/sc17/fftest\"\n",
    "\n",
    "\n",
    "### P3. NUTTCP SERVER IP \n",
    "## used in Step 2,3 : input nuttcp server's ip\n",
    "nuttcp_server=\"192.168.63.52\"\n",
    "\n",
    "### P4. NUTTCP THREADS\n",
    "## used in Step 2,3 :input threads number\n",
    "count = 8\n",
    "  "
   ]
  },
  {
   "cell_type": "markdown",
   "metadata": {},
   "source": [
    "# Step 1. Test file IO"
   ]
  },
  {
   "cell_type": "code",
   "execution_count": null,
   "metadata": {
    "scrolled": false
   },
   "outputs": [],
   "source": [
    "# setup fio parameters\n",
    "# first, filename is assigned with existed and >1GB file path \n",
    "randrepeat=\" --randrepeat=0\" #--randrepeat=0 \n",
    "bs=\" --bs=1M\" #--bs=1M \n",
    "ioengine=\" --ioengine=sync \"#--ioengine=sync \n",
    "tuntime=\" --runtime=30\" #--runtime=30 \n",
    "iodepth=\" --iodepth=32\"#--iodepth=32 \n",
    "name=\" --name=drive0\"#--name=drive0 \n",
    "size=\" --size=100G \"#--size=100G \n",
    "filename=\" --filename=\"+file_read_fio #--filename=filename\n",
    "numjobs=\" --numjobs=\"+str(count) \n",
    "\n"
   ]
  },
  {
   "cell_type": "code",
   "execution_count": null,
   "metadata": {},
   "outputs": [],
   "source": [
    "## method 1 : launching subprocess\n",
    "#for i in range(count):\n",
    "#    filename=\" --filename=\"+file_read_fio #--filename=filename\n",
    "#    cmd=\"fio --thread --rw=read --readonly --norandommap --group_reporting --time_based \"\n",
    "#    command = cmd + randrepeat + bs + ioengine + tuntime + iodepth + name + size + filename +\" & \"\n",
    "#    print(command)\n",
    "#    os.system(command)\n",
    "\n",
    "## method 2 : multithreads by parameters \n",
    "filename=\" --filename=\"+file_read_fio #--filename=filename\n",
    "cmd=\"sleep 3; fio --thread --rw=read --readonly --norandommap --group_reporting --time_based\"\n",
    "#command = cmd + randrepeat + bs + ioengine + tuntime + iodepth + name + size + numjobs + filename \n",
    "command = cmd + randrepeat + bs + ioengine + tuntime + iodepth + name + size + filename \n",
    "print(command)"
   ]
  },
  {
   "cell_type": "code",
   "execution_count": null,
   "metadata": {},
   "outputs": [],
   "source": [
    "\n",
    "os.system(command)\n",
    "\n",
    "dtn.run_monitor(timeout=60)\n"
   ]
  },
  {
   "cell_type": "markdown",
   "metadata": {},
   "source": [
    "# Step 2. Test network transfer by memory"
   ]
  },
  {
   "cell_type": "code",
   "execution_count": null,
   "metadata": {
    "scrolled": false
   },
   "outputs": [],
   "source": [
    "command = \"\"\n",
    "for i in range(count):\n",
    "     command += \"nuttcp -t -i1 -xc \"+str(i)+\" -w 110M -T 30s -P 5200\"+str(i)+\" -p 5210\"+str(i)+ \" \"+ nuttcp_server +\" & \"\n",
    "#    if i != (count-1):\n",
    "#        command += \"nuttcp -t -i1 -xc \"+str(i)+\" -w 110M -T 30s -P 5200\"+str(i)+\" -p 5210\"+str(i)+ \" \"+ nuttcp_server +\" & \"\n",
    "#    else: \n",
    "#        command += \"nuttcp -t -i1 -xc \"+str(i)+\" -w 110M -T 30s -P 5200\"+str(i)+\" -p 5210\"+str(i)+ \" \"+ nuttcp_server +\" & \"\n",
    "        \n",
    "#print(command)\n",
    "os.system(command)\n",
    "dtn.run_monitor(timeout=60)\n",
    "\n"
   ]
  },
  {
   "cell_type": "markdown",
   "metadata": {},
   "source": [
    "# Step 3. Test network transfer by disk"
   ]
  },
  {
   "cell_type": "code",
   "execution_count": null,
   "metadata": {
    "scrolled": false
   },
   "outputs": [],
   "source": [
    "for i in range(count):\n",
    "    command = \"nuttcp -t -i1 -sdz -xc \"+str(i)+\" -w 110M -P 5300\"+str(i)+\" -p 5310\"+str(i)+ \" \"+ nuttcp_server +\" < \"+ file_read_fio +\" & \"\n",
    "    #print(command)\n",
    "    os.system(command)\n",
    "    #dtn.exec_sysout(command)\n",
    "\n",
    "\n",
    "dtn.run_monitor(timeout=60)"
   ]
  },
  {
   "cell_type": "code",
   "execution_count": null,
   "metadata": {},
   "outputs": [],
   "source": []
  }
 ],
 "metadata": {
  "kernelspec": {
   "display_name": "Python 3",
   "language": "python",
   "name": "python3"
  },
  "language_info": {
   "codemirror_mode": {
    "name": "ipython",
    "version": 3
   },
   "file_extension": ".py",
   "mimetype": "text/x-python",
   "name": "python",
   "nbconvert_exporter": "python",
   "pygments_lexer": "ipython3",
   "version": "3.6.1"
  }
 },
 "nbformat": 4,
 "nbformat_minor": 2
}
